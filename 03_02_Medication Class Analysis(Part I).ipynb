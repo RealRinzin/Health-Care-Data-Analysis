{
 "cells": [
  {
   "cell_type": "code",
   "execution_count": 4,
   "metadata": {
    "id": "0sd2QwPev6ri"
   },
   "outputs": [],
   "source": [
    "import pandas as pd\n",
    "import matplotlib.pyplot as plt\n",
    "import seaborn as sns\n",
    "# from wordcloud import WordCloud"
   ]
  },
  {
   "cell_type": "code",
   "execution_count": 5,
   "metadata": {
    "colab": {
     "base_uri": "https://localhost:8080/",
     "height": 424
    },
    "executionInfo": {
     "elapsed": 1837,
     "status": "ok",
     "timestamp": 1702154354468,
     "user": {
      "displayName": "Wuraola Oyewusi",
      "userId": "00359427092648181298"
     },
     "user_tz": 0
    },
    "id": "clyoykA7TZtH",
    "outputId": "16baece3-30f3-4f6c-9d54-60f269601bf7"
   },
   "outputs": [
    {
     "data": {
      "text/html": [
       "<div>\n",
       "<style scoped>\n",
       "    .dataframe tbody tr th:only-of-type {\n",
       "        vertical-align: middle;\n",
       "    }\n",
       "\n",
       "    .dataframe tbody tr th {\n",
       "        vertical-align: top;\n",
       "    }\n",
       "\n",
       "    .dataframe thead th {\n",
       "        text-align: right;\n",
       "    }\n",
       "</style>\n",
       "<table border=\"1\" class=\"dataframe\">\n",
       "  <thead>\n",
       "    <tr style=\"text-align: right;\">\n",
       "      <th></th>\n",
       "      <th>Date Sold</th>\n",
       "      <th>Med_name</th>\n",
       "      <th>Med_class</th>\n",
       "      <th>Quantity Sold</th>\n",
       "      <th>Price</th>\n",
       "    </tr>\n",
       "  </thead>\n",
       "  <tbody>\n",
       "    <tr>\n",
       "      <th>0</th>\n",
       "      <td>2021-05-07</td>\n",
       "      <td>Clotrimazole Topical Cream (2%)</td>\n",
       "      <td>Antifungal</td>\n",
       "      <td>66</td>\n",
       "      <td>86.9</td>\n",
       "    </tr>\n",
       "    <tr>\n",
       "      <th>1</th>\n",
       "      <td>2021-08-09</td>\n",
       "      <td>Alprostadil Urethral Suppository (125 mcg)</td>\n",
       "      <td>Prostaglandin E1 Analog</td>\n",
       "      <td>15</td>\n",
       "      <td>22.9</td>\n",
       "    </tr>\n",
       "    <tr>\n",
       "      <th>2</th>\n",
       "      <td>2021-06-15</td>\n",
       "      <td>Methyltestosterone Tablet (10 mg)</td>\n",
       "      <td>Androgen Hormone</td>\n",
       "      <td>5</td>\n",
       "      <td>5.9</td>\n",
       "    </tr>\n",
       "    <tr>\n",
       "      <th>3</th>\n",
       "      <td>2021-02-19</td>\n",
       "      <td>Buspirone Tablet (5 mg)</td>\n",
       "      <td>Anxiolytic</td>\n",
       "      <td>89</td>\n",
       "      <td>55.7</td>\n",
       "    </tr>\n",
       "    <tr>\n",
       "      <th>4</th>\n",
       "      <td>2022-09-24</td>\n",
       "      <td>Hydrocodone/Acetaminophen Tablet (5/325 mg)</td>\n",
       "      <td>Opioid Analgesic/Analgesic Combination</td>\n",
       "      <td>79</td>\n",
       "      <td>0.7</td>\n",
       "    </tr>\n",
       "    <tr>\n",
       "      <th>...</th>\n",
       "      <td>...</td>\n",
       "      <td>...</td>\n",
       "      <td>...</td>\n",
       "      <td>...</td>\n",
       "      <td>...</td>\n",
       "    </tr>\n",
       "    <tr>\n",
       "      <th>999995</th>\n",
       "      <td>2020-11-29</td>\n",
       "      <td>Alprostadil Urethral Suppository (125 mcg)</td>\n",
       "      <td>Prostaglandin E1 Analog</td>\n",
       "      <td>34</td>\n",
       "      <td>58.0</td>\n",
       "    </tr>\n",
       "    <tr>\n",
       "      <th>999996</th>\n",
       "      <td>2021-03-30</td>\n",
       "      <td>Fenoprofen Tablet (600 mg)</td>\n",
       "      <td>Nonsteroidal Anti-Inflammatory Drug</td>\n",
       "      <td>12</td>\n",
       "      <td>98.3</td>\n",
       "    </tr>\n",
       "    <tr>\n",
       "      <th>999997</th>\n",
       "      <td>2020-04-17</td>\n",
       "      <td>Doxazosin Tablet (1 mg)</td>\n",
       "      <td>Alpha-Blocker</td>\n",
       "      <td>83</td>\n",
       "      <td>10.3</td>\n",
       "    </tr>\n",
       "    <tr>\n",
       "      <th>999998</th>\n",
       "      <td>2021-12-08</td>\n",
       "      <td>Flumazenil Injection (0.1 mg/mL)</td>\n",
       "      <td>Benzodiazepine Antagonist</td>\n",
       "      <td>1</td>\n",
       "      <td>23.9</td>\n",
       "    </tr>\n",
       "    <tr>\n",
       "      <th>999999</th>\n",
       "      <td>2022-08-16</td>\n",
       "      <td>Prednisolone Tablet (5 mg)</td>\n",
       "      <td>Corticosteroid</td>\n",
       "      <td>44</td>\n",
       "      <td>54.5</td>\n",
       "    </tr>\n",
       "  </tbody>\n",
       "</table>\n",
       "<p>1000000 rows × 5 columns</p>\n",
       "</div>"
      ],
      "text/plain": [
       "         Date Sold                                     Med_name  \\\n",
       "0       2021-05-07              Clotrimazole Topical Cream (2%)   \n",
       "1       2021-08-09   Alprostadil Urethral Suppository (125 mcg)   \n",
       "2       2021-06-15            Methyltestosterone Tablet (10 mg)   \n",
       "3       2021-02-19                      Buspirone Tablet (5 mg)   \n",
       "4       2022-09-24  Hydrocodone/Acetaminophen Tablet (5/325 mg)   \n",
       "...            ...                                          ...   \n",
       "999995  2020-11-29   Alprostadil Urethral Suppository (125 mcg)   \n",
       "999996  2021-03-30                   Fenoprofen Tablet (600 mg)   \n",
       "999997  2020-04-17                      Doxazosin Tablet (1 mg)   \n",
       "999998  2021-12-08             Flumazenil Injection (0.1 mg/mL)   \n",
       "999999  2022-08-16                   Prednisolone Tablet (5 mg)   \n",
       "\n",
       "                                      Med_class  Quantity Sold  Price  \n",
       "0                                    Antifungal             66   86.9  \n",
       "1                       Prostaglandin E1 Analog             15   22.9  \n",
       "2                              Androgen Hormone              5    5.9  \n",
       "3                                    Anxiolytic             89   55.7  \n",
       "4        Opioid Analgesic/Analgesic Combination             79    0.7  \n",
       "...                                         ...            ...    ...  \n",
       "999995                  Prostaglandin E1 Analog             34   58.0  \n",
       "999996      Nonsteroidal Anti-Inflammatory Drug             12   98.3  \n",
       "999997                            Alpha-Blocker             83   10.3  \n",
       "999998                Benzodiazepine Antagonist              1   23.9  \n",
       "999999                           Corticosteroid             44   54.5  \n",
       "\n",
       "[1000000 rows x 5 columns]"
      ]
     },
     "execution_count": 5,
     "metadata": {},
     "output_type": "execute_result"
    }
   ],
   "source": [
    "df_pharmacy_sales = pd.read_csv(\"../demo_pharmacy_sales_data.csv\")\n",
    "df_pharmacy_sales"
   ]
  },
  {
   "cell_type": "code",
   "execution_count": 6,
   "metadata": {
    "colab": {
     "base_uri": "https://localhost:8080/"
    },
    "executionInfo": {
     "elapsed": 215,
     "status": "ok",
     "timestamp": 1702154405313,
     "user": {
      "displayName": "Wuraola Oyewusi",
      "userId": "00359427092648181298"
     },
     "user_tz": 0
    },
    "id": "XEiff_XaTjbI",
    "outputId": "972918a7-7560-4201-f3fe-7d0f7ecda1d3"
   },
   "outputs": [
    {
     "data": {
      "text/plain": [
       "Med_name\n",
       "Tretinoin Topical Cream (0.025%)                     15027\n",
       "Ketoconazole Topical Cream (2%)                      11008\n",
       "Adapalene/Benzoyl Peroxide Topical Gel (0.1/2.5%)    10097\n",
       "Triamcinolone Topical Ointment (0.1%)                10083\n",
       "Clobetasol Topical Cream (0.05%)                      9984\n",
       "                                                     ...  \n",
       "Guanfacine Tablet (2 mg)                               939\n",
       "Olopatadine Nasal Spray (665 mcg/spray)                938\n",
       "Methylphenidate Tablet (10 mg)                         938\n",
       "Lithium Carbonate Capsule (300 mg)                     920\n",
       "Clindamycin Topical Lotion (1%)                        917\n",
       "Name: count, Length: 279, dtype: int64"
      ]
     },
     "execution_count": 6,
     "metadata": {},
     "output_type": "execute_result"
    }
   ],
   "source": [
    "df_pharmacy_sales['Med_name'].value_counts()"
   ]
  },
  {
   "cell_type": "code",
   "execution_count": 7,
   "metadata": {
    "colab": {
     "base_uri": "https://localhost:8080/"
    },
    "executionInfo": {
     "elapsed": 202,
     "status": "ok",
     "timestamp": 1702154456976,
     "user": {
      "displayName": "Wuraola Oyewusi",
      "userId": "00359427092648181298"
     },
     "user_tz": 0
    },
    "id": "UrlzI-NuTwMs",
    "outputId": "cbbda2ba-c563-46f0-c1f5-175bec729132"
   },
   "outputs": [
    {
     "data": {
      "text/plain": [
       "Med_class\n",
       "Nonsteroidal Anti-Inflammatory Drug                        82146\n",
       "Phosphodiesterase Type 5 Inhibitor                         56294\n",
       "Alpha-Blocker                                              52208\n",
       "Anticonvulsant                                             49766\n",
       "Beta-Blocker                                               40673\n",
       "                                                           ...  \n",
       "Norepinephrine Reuptake Inhibitor                            995\n",
       "Melatonin Receptor Agonist                                   983\n",
       "Cardiac Glycoside                                            981\n",
       "Anticholinergic/Short-Acting Beta-2 Agonist Combination      977\n",
       "Mood Stabilizer                                              920\n",
       "Name: count, Length: 87, dtype: int64"
      ]
     },
     "execution_count": 7,
     "metadata": {},
     "output_type": "execute_result"
    }
   ],
   "source": [
    "df_pharmacy_sales['Med_class'].value_counts()"
   ]
  },
  {
   "cell_type": "code",
   "execution_count": 8,
   "metadata": {
    "id": "AW_EsZ8wT82f"
   },
   "outputs": [],
   "source": [
    "top_number = 20"
   ]
  },
  {
   "cell_type": "code",
   "execution_count": 9,
   "metadata": {
    "colab": {
     "base_uri": "https://localhost:8080/"
    },
    "executionInfo": {
     "elapsed": 211,
     "status": "ok",
     "timestamp": 1702154675541,
     "user": {
      "displayName": "Wuraola Oyewusi",
      "userId": "00359427092648181298"
     },
     "user_tz": 0
    },
    "id": "EA1W1w_WUKeo",
    "outputId": "cfb76998-9e37-4a65-e8d0-4518772f6d86"
   },
   "outputs": [
    {
     "data": {
      "text/plain": [
       "Index([' Nonsteroidal Anti-Inflammatory Drug',\n",
       "       ' Phosphodiesterase Type 5 Inhibitor', ' Alpha-Blocker',\n",
       "       ' Anticonvulsant', ' Beta-Blocker', ' Antifungal', ' Corticosteroid',\n",
       "       ' Benzodiazepine', ' Low-Potency Corticosteroid',\n",
       "       ' High-Potency Corticosteroid', ' Opioid Analgesic', ' Antibiotic',\n",
       "       ' Inhaled Corticosteroid', ' 5-Alpha Reductase Inhibitor', ' Analgesic',\n",
       "       ' Prostaglandin E1 Analog', ' Retinoid', ' Sympathomimetic',\n",
       "       ' Vasodilator', ' Alpha-2 Agonist'],\n",
       "      dtype='object', name='Med_class')"
      ]
     },
     "execution_count": 9,
     "metadata": {},
     "output_type": "execute_result"
    }
   ],
   "source": [
    "top_classes = df_pharmacy_sales['Med_class'].value_counts().nlargest(top_number).index\n",
    "top_classes"
   ]
  },
  {
   "cell_type": "code",
   "execution_count": 10,
   "metadata": {
    "colab": {
     "base_uri": "https://localhost:8080/",
     "height": 424
    },
    "executionInfo": {
     "elapsed": 243,
     "status": "ok",
     "timestamp": 1702154989046,
     "user": {
      "displayName": "Wuraola Oyewusi",
      "userId": "00359427092648181298"
     },
     "user_tz": 0
    },
    "id": "0faniWR3Udyq",
    "outputId": "cc8f4566-0668-4522-d9fe-279c72a80579"
   },
   "outputs": [
    {
     "data": {
      "text/html": [
       "<div>\n",
       "<style scoped>\n",
       "    .dataframe tbody tr th:only-of-type {\n",
       "        vertical-align: middle;\n",
       "    }\n",
       "\n",
       "    .dataframe tbody tr th {\n",
       "        vertical-align: top;\n",
       "    }\n",
       "\n",
       "    .dataframe thead th {\n",
       "        text-align: right;\n",
       "    }\n",
       "</style>\n",
       "<table border=\"1\" class=\"dataframe\">\n",
       "  <thead>\n",
       "    <tr style=\"text-align: right;\">\n",
       "      <th></th>\n",
       "      <th>Date Sold</th>\n",
       "      <th>Med_name</th>\n",
       "      <th>Med_class</th>\n",
       "      <th>Quantity Sold</th>\n",
       "      <th>Price</th>\n",
       "    </tr>\n",
       "  </thead>\n",
       "  <tbody>\n",
       "    <tr>\n",
       "      <th>0</th>\n",
       "      <td>2021-05-07</td>\n",
       "      <td>Clotrimazole Topical Cream (2%)</td>\n",
       "      <td>Antifungal</td>\n",
       "      <td>66</td>\n",
       "      <td>86.9</td>\n",
       "    </tr>\n",
       "    <tr>\n",
       "      <th>1</th>\n",
       "      <td>2021-08-09</td>\n",
       "      <td>Alprostadil Urethral Suppository (125 mcg)</td>\n",
       "      <td>Prostaglandin E1 Analog</td>\n",
       "      <td>15</td>\n",
       "      <td>22.9</td>\n",
       "    </tr>\n",
       "    <tr>\n",
       "      <th>6</th>\n",
       "      <td>2018-10-22</td>\n",
       "      <td>Norepinephrine Injection (2 mg/mL)</td>\n",
       "      <td>Sympathomimetic</td>\n",
       "      <td>96</td>\n",
       "      <td>80.6</td>\n",
       "    </tr>\n",
       "    <tr>\n",
       "      <th>8</th>\n",
       "      <td>2022-05-19</td>\n",
       "      <td>Rofecoxib Tablet (25 mg)</td>\n",
       "      <td>Nonsteroidal Anti-Inflammatory Drug</td>\n",
       "      <td>32</td>\n",
       "      <td>21.2</td>\n",
       "    </tr>\n",
       "    <tr>\n",
       "      <th>9</th>\n",
       "      <td>2019-07-21</td>\n",
       "      <td>Fluticasone Inhaler (50 mcg/actuation)</td>\n",
       "      <td>Inhaled Corticosteroid</td>\n",
       "      <td>71</td>\n",
       "      <td>9.6</td>\n",
       "    </tr>\n",
       "    <tr>\n",
       "      <th>...</th>\n",
       "      <td>...</td>\n",
       "      <td>...</td>\n",
       "      <td>...</td>\n",
       "      <td>...</td>\n",
       "      <td>...</td>\n",
       "    </tr>\n",
       "    <tr>\n",
       "      <th>999992</th>\n",
       "      <td>2018-10-31</td>\n",
       "      <td>Carbamazepine Tablet (200 mg)</td>\n",
       "      <td>Anticonvulsant</td>\n",
       "      <td>92</td>\n",
       "      <td>73.3</td>\n",
       "    </tr>\n",
       "    <tr>\n",
       "      <th>999995</th>\n",
       "      <td>2020-11-29</td>\n",
       "      <td>Alprostadil Urethral Suppository (125 mcg)</td>\n",
       "      <td>Prostaglandin E1 Analog</td>\n",
       "      <td>34</td>\n",
       "      <td>58.0</td>\n",
       "    </tr>\n",
       "    <tr>\n",
       "      <th>999996</th>\n",
       "      <td>2021-03-30</td>\n",
       "      <td>Fenoprofen Tablet (600 mg)</td>\n",
       "      <td>Nonsteroidal Anti-Inflammatory Drug</td>\n",
       "      <td>12</td>\n",
       "      <td>98.3</td>\n",
       "    </tr>\n",
       "    <tr>\n",
       "      <th>999997</th>\n",
       "      <td>2020-04-17</td>\n",
       "      <td>Doxazosin Tablet (1 mg)</td>\n",
       "      <td>Alpha-Blocker</td>\n",
       "      <td>83</td>\n",
       "      <td>10.3</td>\n",
       "    </tr>\n",
       "    <tr>\n",
       "      <th>999999</th>\n",
       "      <td>2022-08-16</td>\n",
       "      <td>Prednisolone Tablet (5 mg)</td>\n",
       "      <td>Corticosteroid</td>\n",
       "      <td>44</td>\n",
       "      <td>54.5</td>\n",
       "    </tr>\n",
       "  </tbody>\n",
       "</table>\n",
       "<p>661970 rows × 5 columns</p>\n",
       "</div>"
      ],
      "text/plain": [
       "         Date Sold                                    Med_name  \\\n",
       "0       2021-05-07             Clotrimazole Topical Cream (2%)   \n",
       "1       2021-08-09  Alprostadil Urethral Suppository (125 mcg)   \n",
       "6       2018-10-22          Norepinephrine Injection (2 mg/mL)   \n",
       "8       2022-05-19                    Rofecoxib Tablet (25 mg)   \n",
       "9       2019-07-21      Fluticasone Inhaler (50 mcg/actuation)   \n",
       "...            ...                                         ...   \n",
       "999992  2018-10-31               Carbamazepine Tablet (200 mg)   \n",
       "999995  2020-11-29  Alprostadil Urethral Suppository (125 mcg)   \n",
       "999996  2021-03-30                  Fenoprofen Tablet (600 mg)   \n",
       "999997  2020-04-17                     Doxazosin Tablet (1 mg)   \n",
       "999999  2022-08-16                  Prednisolone Tablet (5 mg)   \n",
       "\n",
       "                                   Med_class  Quantity Sold  Price  \n",
       "0                                 Antifungal             66   86.9  \n",
       "1                    Prostaglandin E1 Analog             15   22.9  \n",
       "6                            Sympathomimetic             96   80.6  \n",
       "8        Nonsteroidal Anti-Inflammatory Drug             32   21.2  \n",
       "9                     Inhaled Corticosteroid             71    9.6  \n",
       "...                                      ...            ...    ...  \n",
       "999992                        Anticonvulsant             92   73.3  \n",
       "999995               Prostaglandin E1 Analog             34   58.0  \n",
       "999996   Nonsteroidal Anti-Inflammatory Drug             12   98.3  \n",
       "999997                         Alpha-Blocker             83   10.3  \n",
       "999999                        Corticosteroid             44   54.5  \n",
       "\n",
       "[661970 rows x 5 columns]"
      ]
     },
     "execution_count": 10,
     "metadata": {},
     "output_type": "execute_result"
    }
   ],
   "source": [
    "df_top_med_classes = df_pharmacy_sales[df_pharmacy_sales['Med_class'].isin(top_classes)]\n",
    "df_top_med_classes"
   ]
  },
  {
   "cell_type": "code",
   "execution_count": 11,
   "metadata": {
    "colab": {
     "base_uri": "https://localhost:8080/",
     "height": 677
    },
    "executionInfo": {
     "elapsed": 226,
     "status": "ok",
     "timestamp": 1702154999722,
     "user": {
      "displayName": "Wuraola Oyewusi",
      "userId": "00359427092648181298"
     },
     "user_tz": 0
    },
    "id": "zgxu43bwVCvm",
    "outputId": "d930dd2d-1bf3-4913-d462-76196dd149f7"
   },
   "outputs": [
    {
     "data": {
      "text/html": [
       "<div>\n",
       "<style scoped>\n",
       "    .dataframe tbody tr th:only-of-type {\n",
       "        vertical-align: middle;\n",
       "    }\n",
       "\n",
       "    .dataframe tbody tr th {\n",
       "        vertical-align: top;\n",
       "    }\n",
       "\n",
       "    .dataframe thead th {\n",
       "        text-align: right;\n",
       "    }\n",
       "</style>\n",
       "<table border=\"1\" class=\"dataframe\">\n",
       "  <thead>\n",
       "    <tr style=\"text-align: right;\">\n",
       "      <th></th>\n",
       "      <th>Med_class</th>\n",
       "      <th>Quantity Sold</th>\n",
       "    </tr>\n",
       "  </thead>\n",
       "  <tbody>\n",
       "    <tr>\n",
       "      <th>0</th>\n",
       "      <td>5-Alpha Reductase Inhibitor</td>\n",
       "      <td>1101549</td>\n",
       "    </tr>\n",
       "    <tr>\n",
       "      <th>1</th>\n",
       "      <td>Alpha-2 Agonist</td>\n",
       "      <td>802378</td>\n",
       "    </tr>\n",
       "    <tr>\n",
       "      <th>2</th>\n",
       "      <td>Alpha-Blocker</td>\n",
       "      <td>2625280</td>\n",
       "    </tr>\n",
       "    <tr>\n",
       "      <th>3</th>\n",
       "      <td>Analgesic</td>\n",
       "      <td>1061008</td>\n",
       "    </tr>\n",
       "    <tr>\n",
       "      <th>4</th>\n",
       "      <td>Antibiotic</td>\n",
       "      <td>1259910</td>\n",
       "    </tr>\n",
       "    <tr>\n",
       "      <th>5</th>\n",
       "      <td>Anticonvulsant</td>\n",
       "      <td>2514863</td>\n",
       "    </tr>\n",
       "    <tr>\n",
       "      <th>6</th>\n",
       "      <td>Antifungal</td>\n",
       "      <td>1819102</td>\n",
       "    </tr>\n",
       "    <tr>\n",
       "      <th>7</th>\n",
       "      <td>Benzodiazepine</td>\n",
       "      <td>1705063</td>\n",
       "    </tr>\n",
       "    <tr>\n",
       "      <th>8</th>\n",
       "      <td>Beta-Blocker</td>\n",
       "      <td>2062362</td>\n",
       "    </tr>\n",
       "    <tr>\n",
       "      <th>9</th>\n",
       "      <td>Corticosteroid</td>\n",
       "      <td>1776749</td>\n",
       "    </tr>\n",
       "    <tr>\n",
       "      <th>10</th>\n",
       "      <td>High-Potency Corticosteroid</td>\n",
       "      <td>1509454</td>\n",
       "    </tr>\n",
       "    <tr>\n",
       "      <th>11</th>\n",
       "      <td>Inhaled Corticosteroid</td>\n",
       "      <td>1112097</td>\n",
       "    </tr>\n",
       "    <tr>\n",
       "      <th>12</th>\n",
       "      <td>Low-Potency Corticosteroid</td>\n",
       "      <td>1519123</td>\n",
       "    </tr>\n",
       "    <tr>\n",
       "      <th>13</th>\n",
       "      <td>Nonsteroidal Anti-Inflammatory Drug</td>\n",
       "      <td>4153538</td>\n",
       "    </tr>\n",
       "    <tr>\n",
       "      <th>14</th>\n",
       "      <td>Opioid Analgesic</td>\n",
       "      <td>1514248</td>\n",
       "    </tr>\n",
       "    <tr>\n",
       "      <th>15</th>\n",
       "      <td>Phosphodiesterase Type 5 Inhibitor</td>\n",
       "      <td>2838613</td>\n",
       "    </tr>\n",
       "    <tr>\n",
       "      <th>16</th>\n",
       "      <td>Prostaglandin E1 Analog</td>\n",
       "      <td>1060112</td>\n",
       "    </tr>\n",
       "    <tr>\n",
       "      <th>17</th>\n",
       "      <td>Retinoid</td>\n",
       "      <td>1019449</td>\n",
       "    </tr>\n",
       "    <tr>\n",
       "      <th>18</th>\n",
       "      <td>Sympathomimetic</td>\n",
       "      <td>1005189</td>\n",
       "    </tr>\n",
       "    <tr>\n",
       "      <th>19</th>\n",
       "      <td>Vasodilator</td>\n",
       "      <td>973025</td>\n",
       "    </tr>\n",
       "  </tbody>\n",
       "</table>\n",
       "</div>"
      ],
      "text/plain": [
       "                               Med_class  Quantity Sold\n",
       "0            5-Alpha Reductase Inhibitor        1101549\n",
       "1                        Alpha-2 Agonist         802378\n",
       "2                          Alpha-Blocker        2625280\n",
       "3                              Analgesic        1061008\n",
       "4                             Antibiotic        1259910\n",
       "5                         Anticonvulsant        2514863\n",
       "6                             Antifungal        1819102\n",
       "7                         Benzodiazepine        1705063\n",
       "8                           Beta-Blocker        2062362\n",
       "9                         Corticosteroid        1776749\n",
       "10           High-Potency Corticosteroid        1509454\n",
       "11                Inhaled Corticosteroid        1112097\n",
       "12            Low-Potency Corticosteroid        1519123\n",
       "13   Nonsteroidal Anti-Inflammatory Drug        4153538\n",
       "14                      Opioid Analgesic        1514248\n",
       "15    Phosphodiesterase Type 5 Inhibitor        2838613\n",
       "16               Prostaglandin E1 Analog        1060112\n",
       "17                              Retinoid        1019449\n",
       "18                       Sympathomimetic        1005189\n",
       "19                           Vasodilator         973025"
      ]
     },
     "execution_count": 11,
     "metadata": {},
     "output_type": "execute_result"
    }
   ],
   "source": [
    "df_top_med_classes = df_top_med_classes.groupby('Med_class')['Quantity Sold'].sum().reset_index()\n",
    "df_top_med_classes"
   ]
  },
  {
   "cell_type": "code",
   "execution_count": 12,
   "metadata": {
    "colab": {
     "base_uri": "https://localhost:8080/"
    },
    "executionInfo": {
     "elapsed": 195,
     "status": "ok",
     "timestamp": 1702155013147,
     "user": {
      "displayName": "Wuraola Oyewusi",
      "userId": "00359427092648181298"
     },
     "user_tz": 0
    },
    "id": "88HR3dWbV4N1",
    "outputId": "d0c33df5-eb27-49b7-dc1b-376fd2a1e49b"
   },
   "outputs": [
    {
     "data": {
      "text/plain": [
       "pandas.core.frame.DataFrame"
      ]
     },
     "execution_count": 12,
     "metadata": {},
     "output_type": "execute_result"
    }
   ],
   "source": [
    "type(df_top_med_classes)"
   ]
  },
  {
   "cell_type": "code",
   "execution_count": 14,
   "metadata": {
    "colab": {
     "base_uri": "https://localhost:8080/",
     "height": 677
    },
    "executionInfo": {
     "elapsed": 403,
     "status": "ok",
     "timestamp": 1702155086167,
     "user": {
      "displayName": "Wuraola Oyewusi",
      "userId": "00359427092648181298"
     },
     "user_tz": 0
    },
    "id": "izqiJeQBVd9d",
    "outputId": "c88686df-b9f9-4916-9579-c445b00bc281"
   },
   "outputs": [
    {
     "data": {
      "text/html": [
       "<div>\n",
       "<style scoped>\n",
       "    .dataframe tbody tr th:only-of-type {\n",
       "        vertical-align: middle;\n",
       "    }\n",
       "\n",
       "    .dataframe tbody tr th {\n",
       "        vertical-align: top;\n",
       "    }\n",
       "\n",
       "    .dataframe thead th {\n",
       "        text-align: right;\n",
       "    }\n",
       "</style>\n",
       "<table border=\"1\" class=\"dataframe\">\n",
       "  <thead>\n",
       "    <tr style=\"text-align: right;\">\n",
       "      <th></th>\n",
       "      <th>Med_class</th>\n",
       "      <th>Quantity Sold</th>\n",
       "    </tr>\n",
       "  </thead>\n",
       "  <tbody>\n",
       "    <tr>\n",
       "      <th>1</th>\n",
       "      <td>Alpha-2 Agonist</td>\n",
       "      <td>802378</td>\n",
       "    </tr>\n",
       "    <tr>\n",
       "      <th>19</th>\n",
       "      <td>Vasodilator</td>\n",
       "      <td>973025</td>\n",
       "    </tr>\n",
       "    <tr>\n",
       "      <th>18</th>\n",
       "      <td>Sympathomimetic</td>\n",
       "      <td>1005189</td>\n",
       "    </tr>\n",
       "    <tr>\n",
       "      <th>17</th>\n",
       "      <td>Retinoid</td>\n",
       "      <td>1019449</td>\n",
       "    </tr>\n",
       "    <tr>\n",
       "      <th>16</th>\n",
       "      <td>Prostaglandin E1 Analog</td>\n",
       "      <td>1060112</td>\n",
       "    </tr>\n",
       "    <tr>\n",
       "      <th>3</th>\n",
       "      <td>Analgesic</td>\n",
       "      <td>1061008</td>\n",
       "    </tr>\n",
       "    <tr>\n",
       "      <th>0</th>\n",
       "      <td>5-Alpha Reductase Inhibitor</td>\n",
       "      <td>1101549</td>\n",
       "    </tr>\n",
       "    <tr>\n",
       "      <th>11</th>\n",
       "      <td>Inhaled Corticosteroid</td>\n",
       "      <td>1112097</td>\n",
       "    </tr>\n",
       "    <tr>\n",
       "      <th>4</th>\n",
       "      <td>Antibiotic</td>\n",
       "      <td>1259910</td>\n",
       "    </tr>\n",
       "    <tr>\n",
       "      <th>10</th>\n",
       "      <td>High-Potency Corticosteroid</td>\n",
       "      <td>1509454</td>\n",
       "    </tr>\n",
       "    <tr>\n",
       "      <th>14</th>\n",
       "      <td>Opioid Analgesic</td>\n",
       "      <td>1514248</td>\n",
       "    </tr>\n",
       "    <tr>\n",
       "      <th>12</th>\n",
       "      <td>Low-Potency Corticosteroid</td>\n",
       "      <td>1519123</td>\n",
       "    </tr>\n",
       "    <tr>\n",
       "      <th>7</th>\n",
       "      <td>Benzodiazepine</td>\n",
       "      <td>1705063</td>\n",
       "    </tr>\n",
       "    <tr>\n",
       "      <th>9</th>\n",
       "      <td>Corticosteroid</td>\n",
       "      <td>1776749</td>\n",
       "    </tr>\n",
       "    <tr>\n",
       "      <th>6</th>\n",
       "      <td>Antifungal</td>\n",
       "      <td>1819102</td>\n",
       "    </tr>\n",
       "    <tr>\n",
       "      <th>8</th>\n",
       "      <td>Beta-Blocker</td>\n",
       "      <td>2062362</td>\n",
       "    </tr>\n",
       "    <tr>\n",
       "      <th>5</th>\n",
       "      <td>Anticonvulsant</td>\n",
       "      <td>2514863</td>\n",
       "    </tr>\n",
       "    <tr>\n",
       "      <th>2</th>\n",
       "      <td>Alpha-Blocker</td>\n",
       "      <td>2625280</td>\n",
       "    </tr>\n",
       "    <tr>\n",
       "      <th>15</th>\n",
       "      <td>Phosphodiesterase Type 5 Inhibitor</td>\n",
       "      <td>2838613</td>\n",
       "    </tr>\n",
       "    <tr>\n",
       "      <th>13</th>\n",
       "      <td>Nonsteroidal Anti-Inflammatory Drug</td>\n",
       "      <td>4153538</td>\n",
       "    </tr>\n",
       "  </tbody>\n",
       "</table>\n",
       "</div>"
      ],
      "text/plain": [
       "                               Med_class  Quantity Sold\n",
       "1                        Alpha-2 Agonist         802378\n",
       "19                           Vasodilator         973025\n",
       "18                       Sympathomimetic        1005189\n",
       "17                              Retinoid        1019449\n",
       "16               Prostaglandin E1 Analog        1060112\n",
       "3                              Analgesic        1061008\n",
       "0            5-Alpha Reductase Inhibitor        1101549\n",
       "11                Inhaled Corticosteroid        1112097\n",
       "4                             Antibiotic        1259910\n",
       "10           High-Potency Corticosteroid        1509454\n",
       "14                      Opioid Analgesic        1514248\n",
       "12            Low-Potency Corticosteroid        1519123\n",
       "7                         Benzodiazepine        1705063\n",
       "9                         Corticosteroid        1776749\n",
       "6                             Antifungal        1819102\n",
       "8                           Beta-Blocker        2062362\n",
       "5                         Anticonvulsant        2514863\n",
       "2                          Alpha-Blocker        2625280\n",
       "15    Phosphodiesterase Type 5 Inhibitor        2838613\n",
       "13   Nonsteroidal Anti-Inflammatory Drug        4153538"
      ]
     },
     "execution_count": 14,
     "metadata": {},
     "output_type": "execute_result"
    }
   ],
   "source": [
    "df_top_med_classes = df_top_med_classes.sort_values(by='Quantity Sold')\n",
    "df_top_med_classes"
   ]
  },
  {
   "cell_type": "code",
   "execution_count": null,
   "metadata": {},
   "outputs": [],
   "source": []
  }
 ],
 "metadata": {
  "colab": {
   "authorship_tag": "ABX9TyPPvdWTr6ZH4gdnJ8WtrnJV",
   "provenance": []
  },
  "kernelspec": {
   "display_name": "Python 3",
   "name": "python3"
  },
  "language_info": {
   "codemirror_mode": {
    "name": "ipython",
    "version": 3
   },
   "file_extension": ".py",
   "mimetype": "text/x-python",
   "name": "python",
   "nbconvert_exporter": "python",
   "pygments_lexer": "ipython3",
   "version": "3.12.1"
  }
 },
 "nbformat": 4,
 "nbformat_minor": 0
}
