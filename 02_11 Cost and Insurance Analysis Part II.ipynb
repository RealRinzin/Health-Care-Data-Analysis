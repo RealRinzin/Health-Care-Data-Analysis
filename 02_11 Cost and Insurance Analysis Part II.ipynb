{
 "cells": [
  {
   "cell_type": "markdown",
   "metadata": {
    "id": "dgB06H9_Ny-i"
   },
   "source": [
    "##Cost and Insurance Analysis of Patient Visit Demo Dataset Part I"
   ]
  },
  {
   "cell_type": "code",
   "execution_count": 14,
   "metadata": {
    "executionInfo": {
     "elapsed": 1560,
     "status": "ok",
     "timestamp": 1706364000048,
     "user": {
      "displayName": "Wuraola Oyewusi",
      "userId": "00359427092648181298"
     },
     "user_tz": 0
    },
    "id": "fBwSNbgFKMwU"
   },
   "outputs": [],
   "source": [
    "import pandas as pd\n",
    "import matplotlib.pyplot as plt"
   ]
  },
  {
   "cell_type": "code",
   "execution_count": 15,
   "metadata": {
    "colab": {
     "base_uri": "https://localhost:8080/",
     "height": 365
    },
    "executionInfo": {
     "elapsed": 470,
     "status": "ok",
     "timestamp": 1706364000516,
     "user": {
      "displayName": "Wuraola Oyewusi",
      "userId": "00359427092648181298"
     },
     "user_tz": 0
    },
    "id": "B7E9d0QDKRtc",
    "outputId": "8d0954d1-cfec-4aed-eb31-5a9b3999f7d0"
   },
   "outputs": [
    {
     "data": {
      "text/html": [
       "<div>\n",
       "<style scoped>\n",
       "    .dataframe tbody tr th:only-of-type {\n",
       "        vertical-align: middle;\n",
       "    }\n",
       "\n",
       "    .dataframe tbody tr th {\n",
       "        vertical-align: top;\n",
       "    }\n",
       "\n",
       "    .dataframe thead th {\n",
       "        text-align: right;\n",
       "    }\n",
       "</style>\n",
       "<table border=\"1\" class=\"dataframe\">\n",
       "  <thead>\n",
       "    <tr style=\"text-align: right;\">\n",
       "      <th></th>\n",
       "      <th>Visit_Date</th>\n",
       "      <th>Patient_ID</th>\n",
       "      <th>Age</th>\n",
       "      <th>Gender</th>\n",
       "      <th>Diagnosis</th>\n",
       "      <th>Has_Insurance</th>\n",
       "      <th>Postcode</th>\n",
       "      <th>Total_Cost</th>\n",
       "      <th>Registration_minutes</th>\n",
       "      <th>Nursing_minutes</th>\n",
       "      <th>Laboratory_minutes</th>\n",
       "      <th>Consulation_minutes</th>\n",
       "      <th>Pharmacy_minutes</th>\n",
       "    </tr>\n",
       "  </thead>\n",
       "  <tbody>\n",
       "    <tr>\n",
       "      <th>0</th>\n",
       "      <td>2020-05-06</td>\n",
       "      <td>688923</td>\n",
       "      <td>68</td>\n",
       "      <td>Female</td>\n",
       "      <td>Diabetes</td>\n",
       "      <td>True</td>\n",
       "      <td>20006</td>\n",
       "      <td>2274.0</td>\n",
       "      <td>33</td>\n",
       "      <td>105</td>\n",
       "      <td>101</td>\n",
       "      <td>28</td>\n",
       "      <td>112</td>\n",
       "    </tr>\n",
       "    <tr>\n",
       "      <th>1</th>\n",
       "      <td>2018-08-04</td>\n",
       "      <td>886361</td>\n",
       "      <td>62</td>\n",
       "      <td>Female</td>\n",
       "      <td>Urinary Tract Infection</td>\n",
       "      <td>False</td>\n",
       "      <td>20005</td>\n",
       "      <td>3430.0</td>\n",
       "      <td>46</td>\n",
       "      <td>75</td>\n",
       "      <td>84</td>\n",
       "      <td>102</td>\n",
       "      <td>36</td>\n",
       "    </tr>\n",
       "    <tr>\n",
       "      <th>2</th>\n",
       "      <td>2021-04-10</td>\n",
       "      <td>464823</td>\n",
       "      <td>70</td>\n",
       "      <td>Female</td>\n",
       "      <td>Upper Respiratory Tract Infection</td>\n",
       "      <td>True</td>\n",
       "      <td>10003</td>\n",
       "      <td>1836.0</td>\n",
       "      <td>107</td>\n",
       "      <td>81</td>\n",
       "      <td>5</td>\n",
       "      <td>77</td>\n",
       "      <td>36</td>\n",
       "    </tr>\n",
       "    <tr>\n",
       "      <th>3</th>\n",
       "      <td>2021-10-01</td>\n",
       "      <td>655214</td>\n",
       "      <td>8</td>\n",
       "      <td>Female</td>\n",
       "      <td>Upper Respiratory Tract Infection</td>\n",
       "      <td>False</td>\n",
       "      <td>10006</td>\n",
       "      <td>3250.0</td>\n",
       "      <td>66</td>\n",
       "      <td>31</td>\n",
       "      <td>101</td>\n",
       "      <td>35</td>\n",
       "      <td>92</td>\n",
       "    </tr>\n",
       "    <tr>\n",
       "      <th>4</th>\n",
       "      <td>2018-04-30</td>\n",
       "      <td>454666</td>\n",
       "      <td>24</td>\n",
       "      <td>Male</td>\n",
       "      <td>Malaria</td>\n",
       "      <td>True</td>\n",
       "      <td>10006</td>\n",
       "      <td>2262.0</td>\n",
       "      <td>68</td>\n",
       "      <td>55</td>\n",
       "      <td>60</td>\n",
       "      <td>90</td>\n",
       "      <td>104</td>\n",
       "    </tr>\n",
       "  </tbody>\n",
       "</table>\n",
       "</div>"
      ],
      "text/plain": [
       "   Visit_Date  Patient_ID  Age  Gender                          Diagnosis  \\\n",
       "0  2020-05-06      688923   68  Female                           Diabetes   \n",
       "1  2018-08-04      886361   62  Female            Urinary Tract Infection   \n",
       "2  2021-04-10      464823   70  Female  Upper Respiratory Tract Infection   \n",
       "3  2021-10-01      655214    8  Female  Upper Respiratory Tract Infection   \n",
       "4  2018-04-30      454666   24    Male                            Malaria   \n",
       "\n",
       "   Has_Insurance  Postcode  Total_Cost  Registration_minutes  Nursing_minutes  \\\n",
       "0           True     20006      2274.0                    33              105   \n",
       "1          False     20005      3430.0                    46               75   \n",
       "2           True     10003      1836.0                   107               81   \n",
       "3          False     10006      3250.0                    66               31   \n",
       "4           True     10006      2262.0                    68               55   \n",
       "\n",
       "   Laboratory_minutes  Consulation_minutes  Pharmacy_minutes  \n",
       "0                 101                   28               112  \n",
       "1                  84                  102                36  \n",
       "2                   5                   77                36  \n",
       "3                 101                   35                92  \n",
       "4                  60                   90               104  "
      ]
     },
     "execution_count": 15,
     "metadata": {},
     "output_type": "execute_result"
    }
   ],
   "source": [
    "df_visit = pd.read_csv(\"./csv/demo_hospital_outpatient_data_clean.zip\")\n",
    "df_visit.head()"
   ]
  },
  {
   "cell_type": "code",
   "execution_count": 16,
   "metadata": {
    "colab": {
     "base_uri": "https://localhost:8080/"
    },
    "executionInfo": {
     "elapsed": 13,
     "status": "ok",
     "timestamp": 1706364000517,
     "user": {
      "displayName": "Wuraola Oyewusi",
      "userId": "00359427092648181298"
     },
     "user_tz": 0
    },
    "id": "Toz4ljGwKZDk",
    "outputId": "405c5ab2-54bb-499e-9871-e280463b5653"
   },
   "outputs": [
    {
     "data": {
      "text/plain": [
       "Gender\n",
       "Female    2627.048550\n",
       "Male      2625.128996\n",
       "Name: Total_Cost, dtype: float64"
      ]
     },
     "execution_count": 16,
     "metadata": {},
     "output_type": "execute_result"
    }
   ],
   "source": [
    "avg_cost_by_gender = df_visit.groupby('Gender')['Total_Cost'].mean()\n",
    "avg_cost_by_gender"
   ]
  },
  {
   "cell_type": "code",
   "execution_count": 17,
   "metadata": {
    "colab": {
     "base_uri": "https://localhost:8080/",
     "height": 472
    },
    "executionInfo": {
     "elapsed": 577,
     "status": "ok",
     "timestamp": 1706364001328,
     "user": {
      "displayName": "Wuraola Oyewusi",
      "userId": "00359427092648181298"
     },
     "user_tz": 0
    },
    "id": "ALgPzhBSKswP",
    "outputId": "7d7df778-ecfd-418a-dda5-218e59c700d2"
   },
   "outputs": [
    {
     "data": {
      "image/png": "[encoded data removed]",
      "text/plain": [
       "<Figure size 640x480 with 1 Axes>"
      ]
     },
     "metadata": {},
     "output_type": "display_data"
    }
   ],
   "source": [
    "plt.hist(df_visit['Total_Cost'], bins=20)\n",
    "plt.title('Total Cost distribution')\n",
    "plt.xlabel('Total Cost')\n",
    "plt.ylabel(\"Frequency\")\n",
    "plt.show()"
   ]
  },
  {
   "cell_type": "code",
   "execution_count": 18,
   "metadata": {
    "colab": {
     "base_uri": "https://localhost:8080/"
    },
    "executionInfo": {
     "elapsed": 10,
     "status": "ok",
     "timestamp": 1706364001329,
     "user": {
      "displayName": "Wuraola Oyewusi",
      "userId": "00359427092648181298"
     },
     "user_tz": 0
    },
    "id": "proOsOQwLErd",
    "outputId": "29df50ca-22c2-40d6-b272-feaecf2def53"
   },
   "outputs": [
    {
     "data": {
      "text/plain": [
       "1875.4243560527416"
      ]
     },
     "execution_count": 18,
     "metadata": {},
     "output_type": "execute_result"
    }
   ],
   "source": [
    "avg_cost_by_insurance = df_visit[df_visit['Has_Insurance'] == True]['Total_Cost'].mean()\n",
    "avg_cost_by_insurance"
   ]
  },
  {
   "cell_type": "code",
   "execution_count": 19,
   "metadata": {
    "colab": {
     "base_uri": "https://localhost:8080/"
    },
    "executionInfo": {
     "elapsed": 269,
     "status": "ok",
     "timestamp": 1706364001591,
     "user": {
      "displayName": "Wuraola Oyewusi",
      "userId": "00359427092648181298"
     },
     "user_tz": 0
    },
    "id": "-dXVUmg3Lj85",
    "outputId": "0aa5ca11-a310-4a10-9999-536e891337a3"
   },
   "outputs": [
    {
     "data": {
      "text/plain": [
       "3126.0332134366477"
      ]
     },
     "execution_count": 19,
     "metadata": {},
     "output_type": "execute_result"
    }
   ],
   "source": [
    "avg_cost_without_insurance = df_visit[df_visit['Has_Insurance'] == False]['Total_Cost'].mean()\n",
    "avg_cost_without_insurance"
   ]
  },
  {
   "cell_type": "code",
   "execution_count": 20,
   "metadata": {
    "executionInfo": {
     "elapsed": 4,
     "status": "ok",
     "timestamp": 1706364001591,
     "user": {
      "displayName": "Wuraola Oyewusi",
      "userId": "00359427092648181298"
     },
     "user_tz": 0
    },
    "id": "T47s6DQiMPPE"
   },
   "outputs": [
    {
     "name": "stderr",
     "output_type": "stream",
     "text": [
      "/var/folders/k4/z6f6ppnd4b58v5z7g8jltqdh0000gn/T/ipykernel_13951/1129333048.py:3: FutureWarning: 'Y' is deprecated and will be removed in a future version, please use 'YE' instead.\n",
      "  annual_total_cost = df_visit['Total_Cost'].resample(\"Y\").sum()\n"
     ]
    }
   ],
   "source": [
    "df_visit['Visit_Date'] = pd.to_datetime(df_visit['Visit_Date'])\n",
    "df_visit.set_index(\"Visit_Date\", inplace=True)\n",
    "annual_total_cost = df_visit['Total_Cost'].resample(\"Y\").sum()"
   ]
  },
  {
   "cell_type": "code",
   "execution_count": 21,
   "metadata": {
    "colab": {
     "base_uri": "https://localhost:8080/",
     "height": 564
    },
    "executionInfo": {
     "elapsed": 629,
     "status": "ok",
     "timestamp": 1706364002216,
     "user": {
      "displayName": "Wuraola Oyewusi",
      "userId": "00359427092648181298"
     },
     "user_tz": 0
    },
    "id": "lzdgcPbFMtFn",
    "outputId": "1ed636cd-fc66-4f91-894f-7a54e7726cf2"
   },
   "outputs": [
    {
     "data": {
      "image/png": "[encoded data removed]",
      "text/plain": [
       "<Figure size 1200x600 with 1 Axes>"
      ]
     },
     "metadata": {},
     "output_type": "display_data"
    }
   ],
   "source": [
    "plt.figure(figsize=(12,6))\n",
    "plt.plot(annual_total_cost.index, annual_total_cost.values)\n",
    "plt.title(\"Annual Total Cost over Time\")\n",
    "plt.xlabel(\"Year\")\n",
    "plt.ylabel(\"Total Cost\")\n",
    "plt.grid(True)\n",
    "plt.show()"
   ]
  },
  {
   "cell_type": "code",
   "execution_count": null,
   "metadata": {
    "executionInfo": {
     "elapsed": 10,
     "status": "ok",
     "timestamp": 1706364002217,
     "user": {
      "displayName": "Wuraola Oyewusi",
      "userId": "00359427092648181298"
     },
     "user_tz": 0
    },
    "id": "ACEJHT3lNHEX"
   },
   "outputs": [],
   "source": []
  },
  {
   "cell_type": "markdown",
   "metadata": {
    "id": "jntKixtwN6jD"
   },
   "source": [
    "##Cost and Insurance Analysis of Patient Visit Demo Dataset Part II"
   ]
  },
  {
   "cell_type": "code",
   "execution_count": 22,
   "metadata": {
    "executionInfo": {
     "elapsed": 220,
     "status": "ok",
     "timestamp": 1706365413083,
     "user": {
      "displayName": "Wuraola Oyewusi",
      "userId": "00359427092648181298"
     },
     "user_tz": 0
    },
    "id": "Ns9gmCYYTZDH"
   },
   "outputs": [],
   "source": [
    "df_visit = df_visit.reset_index()"
   ]
  },
  {
   "cell_type": "code",
   "execution_count": 23,
   "metadata": {
    "colab": {
     "base_uri": "https://localhost:8080/",
     "height": 396
    },
    "executionInfo": {
     "elapsed": 7,
     "status": "ok",
     "timestamp": 1706365457622,
     "user": {
      "displayName": "Wuraola Oyewusi",
      "userId": "00359427092648181298"
     },
     "user_tz": 0
    },
    "id": "7aZqy8YuTeO5",
    "outputId": "cde1f1f4-339f-4ea4-e8d7-9440b0e910ab"
   },
   "outputs": [
    {
     "data": {
      "text/html": [
       "<div>\n",
       "<style scoped>\n",
       "    .dataframe tbody tr th:only-of-type {\n",
       "        vertical-align: middle;\n",
       "    }\n",
       "\n",
       "    .dataframe tbody tr th {\n",
       "        vertical-align: top;\n",
       "    }\n",
       "\n",
       "    .dataframe thead th {\n",
       "        text-align: right;\n",
       "    }\n",
       "</style>\n",
       "<table border=\"1\" class=\"dataframe\">\n",
       "  <thead>\n",
       "    <tr style=\"text-align: right;\">\n",
       "      <th></th>\n",
       "      <th>Patient_ID</th>\n",
       "      <th>Age</th>\n",
       "      <th>Gender</th>\n",
       "      <th>Diagnosis</th>\n",
       "      <th>Has_Insurance</th>\n",
       "      <th>Postcode</th>\n",
       "      <th>Total_Cost</th>\n",
       "      <th>Registration_minutes</th>\n",
       "      <th>Nursing_minutes</th>\n",
       "      <th>Laboratory_minutes</th>\n",
       "      <th>Consulation_minutes</th>\n",
       "      <th>Pharmacy_minutes</th>\n",
       "    </tr>\n",
       "    <tr>\n",
       "      <th>Visit_Date</th>\n",
       "      <th></th>\n",
       "      <th></th>\n",
       "      <th></th>\n",
       "      <th></th>\n",
       "      <th></th>\n",
       "      <th></th>\n",
       "      <th></th>\n",
       "      <th></th>\n",
       "      <th></th>\n",
       "      <th></th>\n",
       "      <th></th>\n",
       "      <th></th>\n",
       "    </tr>\n",
       "  </thead>\n",
       "  <tbody>\n",
       "    <tr>\n",
       "      <th>2020-05-06</th>\n",
       "      <td>688923</td>\n",
       "      <td>68</td>\n",
       "      <td>Female</td>\n",
       "      <td>Diabetes</td>\n",
       "      <td>True</td>\n",
       "      <td>20006</td>\n",
       "      <td>2274.0</td>\n",
       "      <td>33</td>\n",
       "      <td>105</td>\n",
       "      <td>101</td>\n",
       "      <td>28</td>\n",
       "      <td>112</td>\n",
       "    </tr>\n",
       "    <tr>\n",
       "      <th>2018-08-04</th>\n",
       "      <td>886361</td>\n",
       "      <td>62</td>\n",
       "      <td>Female</td>\n",
       "      <td>Urinary Tract Infection</td>\n",
       "      <td>False</td>\n",
       "      <td>20005</td>\n",
       "      <td>3430.0</td>\n",
       "      <td>46</td>\n",
       "      <td>75</td>\n",
       "      <td>84</td>\n",
       "      <td>102</td>\n",
       "      <td>36</td>\n",
       "    </tr>\n",
       "    <tr>\n",
       "      <th>2021-04-10</th>\n",
       "      <td>464823</td>\n",
       "      <td>70</td>\n",
       "      <td>Female</td>\n",
       "      <td>Upper Respiratory Tract Infection</td>\n",
       "      <td>True</td>\n",
       "      <td>10003</td>\n",
       "      <td>1836.0</td>\n",
       "      <td>107</td>\n",
       "      <td>81</td>\n",
       "      <td>5</td>\n",
       "      <td>77</td>\n",
       "      <td>36</td>\n",
       "    </tr>\n",
       "    <tr>\n",
       "      <th>2021-10-01</th>\n",
       "      <td>655214</td>\n",
       "      <td>8</td>\n",
       "      <td>Female</td>\n",
       "      <td>Upper Respiratory Tract Infection</td>\n",
       "      <td>False</td>\n",
       "      <td>10006</td>\n",
       "      <td>3250.0</td>\n",
       "      <td>66</td>\n",
       "      <td>31</td>\n",
       "      <td>101</td>\n",
       "      <td>35</td>\n",
       "      <td>92</td>\n",
       "    </tr>\n",
       "    <tr>\n",
       "      <th>2018-04-30</th>\n",
       "      <td>454666</td>\n",
       "      <td>24</td>\n",
       "      <td>Male</td>\n",
       "      <td>Malaria</td>\n",
       "      <td>True</td>\n",
       "      <td>10006</td>\n",
       "      <td>2262.0</td>\n",
       "      <td>68</td>\n",
       "      <td>55</td>\n",
       "      <td>60</td>\n",
       "      <td>90</td>\n",
       "      <td>104</td>\n",
       "    </tr>\n",
       "  </tbody>\n",
       "</table>\n",
       "</div>"
      ],
      "text/plain": [
       "            Patient_ID  Age  Gender                          Diagnosis  \\\n",
       "Visit_Date                                                               \n",
       "2020-05-06      688923   68  Female                           Diabetes   \n",
       "2018-08-04      886361   62  Female            Urinary Tract Infection   \n",
       "2021-04-10      464823   70  Female  Upper Respiratory Tract Infection   \n",
       "2021-10-01      655214    8  Female  Upper Respiratory Tract Infection   \n",
       "2018-04-30      454666   24    Male                            Malaria   \n",
       "\n",
       "            Has_Insurance  Postcode  Total_Cost  Registration_minutes  \\\n",
       "Visit_Date                                                              \n",
       "2020-05-06           True     20006      2274.0                    33   \n",
       "2018-08-04          False     20005      3430.0                    46   \n",
       "2021-04-10           True     10003      1836.0                   107   \n",
       "2021-10-01          False     10006      3250.0                    66   \n",
       "2018-04-30           True     10006      2262.0                    68   \n",
       "\n",
       "            Nursing_minutes  Laboratory_minutes  Consulation_minutes  \\\n",
       "Visit_Date                                                             \n",
       "2020-05-06              105                 101                   28   \n",
       "2018-08-04               75                  84                  102   \n",
       "2021-04-10               81                   5                   77   \n",
       "2021-10-01               31                 101                   35   \n",
       "2018-04-30               55                  60                   90   \n",
       "\n",
       "            Pharmacy_minutes  \n",
       "Visit_Date                    \n",
       "2020-05-06               112  \n",
       "2018-08-04                36  \n",
       "2021-04-10                36  \n",
       "2021-10-01                92  \n",
       "2018-04-30               104  "
      ]
     },
     "execution_count": 23,
     "metadata": {},
     "output_type": "execute_result"
    }
   ],
   "source": [
    "df_visit.set_index('Visit_Date', inplace=True)\n",
    "df_visit.head()"
   ]
  },
  {
   "cell_type": "code",
   "execution_count": 24,
   "metadata": {
    "executionInfo": {
     "elapsed": 270,
     "status": "ok",
     "timestamp": 1706365572650,
     "user": {
      "displayName": "Wuraola Oyewusi",
      "userId": "00359427092648181298"
     },
     "user_tz": 0
    },
    "id": "6t4grfvfTpGh"
   },
   "outputs": [
    {
     "name": "stderr",
     "output_type": "stream",
     "text": [
      "/var/folders/k4/z6f6ppnd4b58v5z7g8jltqdh0000gn/T/ipykernel_13951/2819528301.py:1: FutureWarning: 'Y' is deprecated and will be removed in a future version, please use 'YE' instead.\n",
      "  has_insurance_true_data = df_visit[df_visit['Has_Insurance'] == True]['Total_Cost'].resample('Y').sum()\n",
      "/var/folders/k4/z6f6ppnd4b58v5z7g8jltqdh0000gn/T/ipykernel_13951/2819528301.py:2: FutureWarning: 'Y' is deprecated and will be removed in a future version, please use 'YE' instead.\n",
      "  has_insurance_false_data = df_visit[df_visit['Has_Insurance'] == False]['Total_Cost'].resample('Y').sum()\n"
     ]
    }
   ],
   "source": [
    "has_insurance_true_data = df_visit[df_visit['Has_Insurance'] == True]['Total_Cost'].resample('Y').sum()\n",
    "has_insurance_false_data = df_visit[df_visit['Has_Insurance'] == False]['Total_Cost'].resample('Y').sum()"
   ]
  },
  {
   "cell_type": "code",
   "execution_count": 25,
   "metadata": {
    "colab": {
     "base_uri": "https://localhost:8080/",
     "height": 564
    },
    "executionInfo": {
     "elapsed": 732,
     "status": "ok",
     "timestamp": 1706365751540,
     "user": {
      "displayName": "Wuraola Oyewusi",
      "userId": "00359427092648181298"
     },
     "user_tz": 0
    },
    "id": "JR9tEEzmUFLg",
    "outputId": "d7ce95e0-6cfd-4259-ae33-da2153e76e9a"
   },
   "outputs": [
    {
     "data": {
      "image/png": "[encoded data removed]",
      "text/plain": [
       "<Figure size 1200x600 with 1 Axes>"
      ]
     },
     "metadata": {},
     "output_type": "display_data"
    }
   ],
   "source": [
    "plt.figure(figsize=(12,6))\n",
    "plt.plot(has_insurance_true_data.index, has_insurance_true_data.values,label='Has Insurance: True')\n",
    "plt.plot(has_insurance_false_data.index, has_insurance_false_data.values,label='Has Insurance: False')\n",
    "plt.title('Annual Total Cost by Insurance Status')\n",
    "plt.xlabel('Year')\n",
    "plt.ylabel('Total Cost')\n",
    "plt.grid(True)\n",
    "plt.legend()\n",
    "plt.show()"
   ]
  }
 ],
 "metadata": {
  "colab": {
   "authorship_tag": "ABX9TyMnbyttKC4M/gjbM3oscLeu",
   "provenance": [
    {
     "file_id": "1Geni9S2RskjDGwSWYK8RmPhp7YfdO6Xw",
     "timestamp": 1706363897110
    }
   ]
  },
  "kernelspec": {
   "display_name": "Python 3",
   "name": "python3"
  },
  "language_info": {
   "codemirror_mode": {
    "name": "ipython",
    "version": 3
   },
   "file_extension": ".py",
   "mimetype": "text/x-python",
   "name": "python",
   "nbconvert_exporter": "python",
   "pygments_lexer": "ipython3",
   "version": "3.12.1"
  }
 },
 "nbformat": 4,
 "nbformat_minor": 0
}
